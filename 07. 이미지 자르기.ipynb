{
 "cells": [
  {
   "cell_type": "markdown",
   "id": "6a07af1e",
   "metadata": {},
   "source": [
    "# 이미지 자르기\n",
    "영역을 잘라서 새로운 창에 표시"
   ]
  },
  {
   "cell_type": "code",
   "execution_count": 2,
   "id": "0de5478c",
   "metadata": {},
   "outputs": [],
   "source": [
    "import cv2\n",
    "img =cv2.imread('img.jpg.jpg')\n",
    "crop =img[100:300, 200:400]# 세로기준 100 : 200 까지 가로기준 300:400까지 자름\n",
    "\n",
    "cv2.imshow('img', img)#원본 이미지\n",
    "cv2.imshow('crop', crop)\n",
    "cv2.waitKey(0)\n",
    "cv2.destroyAllWindows()"
   ]
  },
  {
   "cell_type": "markdown",
   "id": "7973eb91",
   "metadata": {},
   "source": [
    "영역을 잘라서 기본 윈도우에 표시"
   ]
  },
  {
   "cell_type": "code",
   "execution_count": 4,
   "id": "c7aea190",
   "metadata": {},
   "outputs": [],
   "source": [
    "import cv2\n",
    "img =cv2.imread('img.jpg.jpg')\n",
    "crop =img[100:300, 200:400]# 세로기준 100 : 200 까지 가로기준 300:400까지 자름\n",
    "\n",
    "img[100:300, 400:600]=crop\n",
    "cv2.imshow('img', img)#원본 이미지\n",
    "cv2.imshow('crop', crop)\n",
    "cv2.waitKey(0)\n",
    "cv2.destroyAllWindows()"
   ]
  }
 ],
 "metadata": {
  "kernelspec": {
   "display_name": "Python 3 (ipykernel)",
   "language": "python",
   "name": "python3"
  },
  "language_info": {
   "codemirror_mode": {
    "name": "ipython",
    "version": 3
   },
   "file_extension": ".py",
   "mimetype": "text/x-python",
   "name": "python",
   "nbconvert_exporter": "python",
   "pygments_lexer": "ipython3",
   "version": "3.9.7"
  }
 },
 "nbformat": 4,
 "nbformat_minor": 5
}
