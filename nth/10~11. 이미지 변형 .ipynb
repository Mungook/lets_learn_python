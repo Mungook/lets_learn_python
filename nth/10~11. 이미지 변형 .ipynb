{
 "cells": [
  {
   "cell_type": "markdown",
   "id": "30a01a6e",
   "metadata": {},
   "source": [
    "# 이미지 변형 흑백"
   ]
  },
  {
   "cell_type": "markdown",
   "id": "6d9f3ad4",
   "metadata": {},
   "source": [
    "불러온 이미지를 흑백으로 변경"
   ]
  },
  {
   "cell_type": "code",
   "execution_count": 1,
   "id": "78a41227",
   "metadata": {},
   "outputs": [],
   "source": [
    "import cv2\n",
    "img = cv2.imread('img.jpg.jpg', cv2.IMREAD_GRAYSCALE)\n",
    "cv2.imshow('img_GRAY',img)\n",
    "cv2.waitKey(0)\n",
    "cv2.destroyAllWindows()"
   ]
  },
  {
   "cell_type": "code",
   "execution_count": 3,
   "id": "d289d1e6",
   "metadata": {},
   "outputs": [],
   "source": [
    "import cv2\n",
    "img = cv2.imread('img.jpg.jpg')\n",
    "\n",
    "dst=cv2.cvtColor(img,cv2.COLOR_BGR2GRAY)\n",
    "\n",
    "cv2.imshow('gray',dst)\n",
    "cv2.waitKey(0)\n",
    "cv2.destroyAllWindows()"
   ]
  },
  {
   "cell_type": "markdown",
   "id": "553e99d2",
   "metadata": {},
   "source": [
    "# 이미지 변형 흐림"
   ]
  },
  {
   "cell_type": "markdown",
   "id": "07ff2c27",
   "metadata": {},
   "source": [
    " 가우시안 블러"
   ]
  },
  {
   "cell_type": "markdown",
   "id": "3b5bae5b",
   "metadata": {},
   "source": [
    "커널 사이즈 변환으로 인한 흐림"
   ]
  },
  {
   "cell_type": "code",
   "execution_count": 7,
   "id": "f2643a48",
   "metadata": {},
   "outputs": [],
   "source": [
    "import cv2\n",
    "img = cv2.imread('img.jpg.jpg')\n",
    "#(3,3) (5,5),(7,7)\n",
    "kenal_3 =cv2.GaussianBlur(img,(3,3),0)\n",
    "kenal_5 =cv2.GaussianBlur(img,(5,5),0)\n",
    "kenal_7 =cv2.GaussianBlur(img,(7,7),0)\n",
    "cv2.imshow('img',img)\n",
    "cv2.imshow('kenal_7', kenal_7 )\n",
    "cv2.waitKey(0)\n",
    "cv2.destroyAllWindows()"
   ]
  },
  {
   "cell_type": "markdown",
   "id": "c101c5fb",
   "metadata": {},
   "source": [
    "표준편차를 이용한 흐림"
   ]
  },
  {
   "cell_type": "code",
   "execution_count": 10,
   "id": "4d2f0800",
   "metadata": {},
   "outputs": [],
   "source": [
    "import cv2\n",
    "img = cv2.imread('img.jpg.jpg')\n",
    "#(3,3) (5,5),(7,7)\n",
    "kenal_3 =cv2.GaussianBlur(img,(0,0),1)\n",
    "kenal_5 =cv2.GaussianBlur(img,(0,0),2) \n",
    "kenal_7 =cv2.GaussianBlur(img,(0,0),3)\n",
    "cv2.imshow('img',img)\n",
    "cv2.imshow('kenal_3', kenal_3 )\n",
    "cv2.waitKey(0)\n",
    "cv2.destroyAllWindows()"
   ]
  }
 ],
 "metadata": {
  "kernelspec": {
   "display_name": "Python 3 (ipykernel)",
   "language": "python",
   "name": "python3"
  },
  "language_info": {
   "codemirror_mode": {
    "name": "ipython",
    "version": 3
   },
   "file_extension": ".py",
   "mimetype": "text/x-python",
   "name": "python",
   "nbconvert_exporter": "python",
   "pygments_lexer": "ipython3",
   "version": "3.9.7"
  }
 },
 "nbformat": 4,
 "nbformat_minor": 5
}
