{
 "cells": [
  {
   "cell_type": "markdown",
   "id": "1219267f",
   "metadata": {},
   "source": [
    "# 08 이미지 대칭"
   ]
  },
  {
   "cell_type": "markdown",
   "id": "7b83f9c8",
   "metadata": {},
   "source": [
    "좌우대칭"
   ]
  },
  {
   "cell_type": "code",
   "execution_count": 2,
   "id": "7e8f397e",
   "metadata": {},
   "outputs": [],
   "source": [
    "import cv2\n",
    "img = cv2.imread('img.jpg.jpg')\n",
    "flip_horizontal=cv2.flip(img,1)#filp code>0 좌우대칭\n",
    "\n",
    "cv2.imshow('img',img)\n",
    "cv2.imshow('flip_horizontal', flip_horizontal )\n",
    "cv2.waitKey(0)\n",
    "cv2.destroyAllWindows()"
   ]
  },
  {
   "cell_type": "markdown",
   "id": "279704ed",
   "metadata": {},
   "source": [
    "상하대칭"
   ]
  },
  {
   "cell_type": "code",
   "execution_count": 5,
   "id": "0879b0a0",
   "metadata": {},
   "outputs": [],
   "source": [
    "import cv2\n",
    "img = cv2.imread('img.jpg.jpg')\n",
    "flip_ud=cv2.flip(img,0)#filp code=0 상하대칭\n",
    "\n",
    "cv2.imshow('img',img)\n",
    "cv2.imshow('flip_ud', flip_ud )\n",
    "cv2.waitKey(0)\n",
    "cv2.destroyAllWindows()"
   ]
  },
  {
   "cell_type": "markdown",
   "id": "904d6c13",
   "metadata": {},
   "source": [
    "상하좌우"
   ]
  },
  {
   "cell_type": "code",
   "execution_count": 4,
   "id": "a15dd281",
   "metadata": {},
   "outputs": [],
   "source": [
    "import cv2\n",
    "img = cv2.imread('img.jpg.jpg')\n",
    "flip_both=cv2.flip(img,-1)#filp code<0 상하좌우대칭\n",
    "\n",
    "cv2.imshow('img',img)\n",
    "cv2.imshow('flip_both', flip_both )\n",
    "cv2.waitKey(0)\n",
    "cv2.destroyAllWindows()"
   ]
  },
  {
   "cell_type": "markdown",
   "id": "b12a0b39",
   "metadata": {},
   "source": [
    "# 09. 이미지 회전"
   ]
  },
  {
   "cell_type": "markdown",
   "id": "7fc60cd6",
   "metadata": {},
   "source": [
    "시계방향 90도 회전"
   ]
  },
  {
   "cell_type": "code",
   "execution_count": 6,
   "id": "2933fa1a",
   "metadata": {},
   "outputs": [],
   "source": [
    "import cv2\n",
    "img = cv2.imread('img.jpg.jpg')\n",
    "\n",
    "rotate_90 = cv2.rotate(img, cv2.ROTATE_90_CLOCKWISE)#시계방향 90도 회전\n",
    "cv2.imshow('img',img)\n",
    "cv2.imshow('rotate_90', rotate_90)\n",
    "cv2.waitKey(0)\n",
    "cv2.destroyAllWindows()"
   ]
  },
  {
   "cell_type": "markdown",
   "id": "3cb04fe0",
   "metadata": {},
   "source": [
    "시계 방향 180도 회전"
   ]
  },
  {
   "cell_type": "code",
   "execution_count": 11,
   "id": "11dc9b99",
   "metadata": {},
   "outputs": [],
   "source": [
    "import cv2\n",
    "img = cv2.imread('img.jpg.jpg')\n",
    "\n",
    "rotate_90 = cv2.rotate(img, cv2.ROTATE_90_CLOCKWISE)#시계방향 90도 회전\n",
    "cv2.imshow('img',img)\n",
    "cv2.imshow('rotate_90', rotate_90)\n",
    "cv2.waitKey(0)\n",
    "cv2.destroyAllWindows()"
   ]
  },
  {
   "cell_type": "markdown",
   "id": "4d545a47",
   "metadata": {},
   "source": [
    "반시계 90도"
   ]
  },
  {
   "cell_type": "code",
   "execution_count": 12,
   "id": "f23af9bd",
   "metadata": {},
   "outputs": [],
   "source": [
    "import cv2\n",
    "img = cv2.imread('img.jpg.jpg')\n",
    "\n",
    "rotate_90 = cv2.rotate(img, cv2.ROTATE_90_COUNTERCLOCKWISE)#반시계방향 90도 회전\n",
    "cv2.imshow('img',img)\n",
    "cv2.imshow('rotate_90', rotate_90)\n",
    "cv2.waitKey(0)\n",
    "cv2.destroyAllWindows()"
   ]
  },
  {
   "cell_type": "code",
   "execution_count": null,
   "id": "c7bd211c",
   "metadata": {},
   "outputs": [],
   "source": []
  },
  {
   "cell_type": "code",
   "execution_count": null,
   "id": "08bc1e27",
   "metadata": {},
   "outputs": [],
   "source": []
  }
 ],
 "metadata": {
  "kernelspec": {
   "display_name": "Python 3 (ipykernel)",
   "language": "python",
   "name": "python3"
  },
  "language_info": {
   "codemirror_mode": {
    "name": "ipython",
    "version": 3
   },
   "file_extension": ".py",
   "mimetype": "text/x-python",
   "name": "python",
   "nbconvert_exporter": "python",
   "pygments_lexer": "ipython3",
   "version": "3.9.7"
  }
 },
 "nbformat": 4,
 "nbformat_minor": 5
}
