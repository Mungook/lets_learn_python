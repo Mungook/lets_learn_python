{
 "cells": [
  {
   "cell_type": "markdown",
   "id": "d52c0e93",
   "metadata": {},
   "source": [
    "# 12 이미지 변형 원근"
   ]
  },
  {
   "cell_type": "code",
   "execution_count": 3,
   "id": "0e1fc82d",
   "metadata": {},
   "outputs": [],
   "source": [
    "import cv2\n",
    "import numpy as np\n",
    "img =cv2.imread('newspaper.jpg')\n",
    "width,height = 640, 240\n",
    "\n",
    "scr = np.array([[511,352],[1008,345],[1122,584],[455,594]], dtype= np.float32)# 4개 위치 지정\n",
    "dst = np.array([[0,0],[width,0],[width,height],[0,height]],dtype =np.float32)\n",
    "#좌상, 우상, 우하, 좌하(시계방향)\n",
    "matrix = cv2.getPerspectiveTransform(scr,dst)\n",
    "result = cv2.warpPerspective(img,matrix, (width,height))#matrix대로 변환\n",
    "\n",
    "cv2.imshow('img', img)\n",
    "cv2.imshow('result', result)\n",
    "cv2.waitKey(0)\n",
    "cv2.destroyAllWindows()"
   ]
  },
  {
   "cell_type": "markdown",
   "id": "7f23f179",
   "metadata": {},
   "source": [
    "# 회전된 이미지 올바로 세우기"
   ]
  },
  {
   "cell_type": "code",
   "execution_count": 4,
   "id": "3ec54c7c",
   "metadata": {},
   "outputs": [],
   "source": [
    "import cv2\n",
    "import numpy as np\n",
    "img =cv2.imread('poker.jpg')\n",
    "width,height = 530, 710\n",
    "\n",
    "scr = np.array([[702,143],[1133,414],[726,1007],[276,700]], dtype= np.float32)# 4개 위치 지정\n",
    "dst = np.array([[0,0],[width,0],[width,height],[0,height]],dtype =np.float32)\n",
    "#좌상, 우상, 우하, 좌하(시계방향)\n",
    "matrix = cv2.getPerspectiveTransform(scr,dst)\n",
    "result = cv2.warpPerspective(img,matrix, (width,height))#matrix대로 변환\n",
    "\n",
    "cv2.imshow('img', img)\n",
    "cv2.imshow('result', result)\n",
    "cv2.waitKey(0)\n",
    "cv2.destroyAllWindows()"
   ]
  },
  {
   "cell_type": "markdown",
   "id": "b6acb6f6",
   "metadata": {},
   "source": [
    "## 미니프로젝트: 반자동 문서 스캐너"
   ]
  },
  {
   "cell_type": "markdown",
   "id": "c52be382",
   "metadata": {},
   "source": [
    "# 마우스 이벤트 등록"
   ]
  },
  {
   "cell_type": "code",
   "execution_count": 12,
   "id": "a3e5fb7d",
   "metadata": {},
   "outputs": [],
   "source": [
    "import cv2\n",
    "\n",
    "def mouse_handler(event,x,y,flags,param):\n",
    "    if event == cv2.EVENT_LBUTTONDOWN: # 마우스 왼쪽 버튼 누름\n",
    "        print('왼쪽 버튼 클릭')\n",
    "      \n",
    "    elif event == cv2.EVENT_LBUTTONUP: \n",
    "        print('왼쪽 버튼 손가락 땜')\n",
    "        print(x,y)\n",
    "    elif event == cv2.EVENT_LBUTTONDBLCLK:#마우스 더블클릭\n",
    "        print('더블클릭')\n",
    "    #elif event == cv2.EVENT_MOUSEMOVE:#마우스 이동\n",
    "        #print('마우스 이동')\n",
    "    \n",
    "        \n",
    "\n",
    "img=cv2.imread('poker.jpg')\n",
    "cv2.namedWindow('img')#이미지라는 윈도우 생성, 여기에 마우스 이벤트를 처리하기 위한 핸들러 적용\n",
    "cv2.setMouseCallback('img', mouse_handler)\n",
    "cv2.imshow('img',img)\n",
    "cv2.waitKey(0)\n",
    "cv2.destroyAllWindows()\n"
   ]
  },
  {
   "cell_type": "code",
   "execution_count": 16,
   "id": "fe91f28f",
   "metadata": {},
   "outputs": [],
   "source": [
    "import cv2\n",
    "import numpy as np\n",
    "point_list =[]\n",
    "src_img =cv2.imread('poker.jpg')\n",
    "COLOR =(255,0,0)\n",
    "def mouse_handler(event,x,y,flags,param):\n",
    "    if event == cv2.EVENT_LBUTTONDOWN: # 마우스 왼쪽 버튼 누름\n",
    "        point_list.append((x,y))\n",
    "    for point in point_list:\n",
    "        cv2.circle(src_img, point,5,COLOR,cv2.FILLED)\n",
    "    if len(point_list) == 4:\n",
    "            show_result()\n",
    "    cv2.imshow('img',src_img)\n",
    "    \n",
    "\n",
    "   \n",
    "def show_result():    \n",
    "    width,height = 530, 710\n",
    "\n",
    "    scr =np.float32(point_list)# 4개 위치 지정\n",
    "    dst = np.array([[0,0],[width,0],[width,height],[0,height]],dtype =np.float32)\n",
    "    #좌상, 우상, 우하, 좌하(시계방향)\n",
    "    matrix = cv2.getPerspectiveTransform(scr,dst)\n",
    "    result = cv2.warpPerspective(src_img,matrix, (width,height))#matrix대로 변환\n",
    "    cv2.imshow('result',result)\n",
    "\n",
    "\n",
    "cv2.namedWindow('img')#이미지라는 윈도우 생성, 여기에 마우스 이벤트를 처리하기 위한 핸들러 적용\n",
    "cv2.setMouseCallback('img', mouse_handler)\n",
    "cv2.imshow('img',img)\n",
    "cv2.waitKey(0)\n",
    "cv2.destroyAllWindows()\n"
   ]
  },
  {
   "cell_type": "code",
   "execution_count": null,
   "id": "42b77ca8",
   "metadata": {},
   "outputs": [],
   "source": []
  },
  {
   "cell_type": "code",
   "execution_count": null,
   "id": "1a226d7e",
   "metadata": {},
   "outputs": [],
   "source": []
  },
  {
   "cell_type": "code",
   "execution_count": null,
   "id": "522044d1",
   "metadata": {},
   "outputs": [],
   "source": []
  },
  {
   "cell_type": "code",
   "execution_count": null,
   "id": "1ce28693",
   "metadata": {},
   "outputs": [],
   "source": []
  }
 ],
 "metadata": {
  "kernelspec": {
   "display_name": "Python 3 (ipykernel)",
   "language": "python",
   "name": "python3"
  },
  "language_info": {
   "codemirror_mode": {
    "name": "ipython",
    "version": 3
   },
   "file_extension": ".py",
   "mimetype": "text/x-python",
   "name": "python",
   "nbconvert_exporter": "python",
   "pygments_lexer": "ipython3",
   "version": "3.9.7"
  }
 },
 "nbformat": 4,
 "nbformat_minor": 5
}
