{
 "cells": [
  {
   "cell_type": "markdown",
   "id": "d1858524",
   "metadata": {},
   "source": [
    "# 6. 크기조정"
   ]
  },
  {
   "cell_type": "markdown",
   "id": "b64f410f",
   "metadata": {},
   "source": [
    "이미지"
   ]
  },
  {
   "cell_type": "markdown",
   "id": "7a994f37",
   "metadata": {},
   "source": [
    "고정크기"
   ]
  },
  {
   "cell_type": "code",
   "execution_count": 1,
   "id": "28892be1",
   "metadata": {},
   "outputs": [],
   "source": [
    "import cv2\n",
    "img = cv2.imread('img.jpg.jpg')\n",
    "dst = cv2.resize(img, (400,500))#width, heigth로 바꿈\n",
    "\n",
    "cv2.imshow('img',img)\n",
    "cv2.imshow('resize', dst)\n",
    "cv2.waitKey(0)\n",
    "cv2.destroyAllWindows()"
   ]
  },
  {
   "cell_type": "markdown",
   "id": "e044c96c",
   "metadata": {},
   "source": [
    "비율로 설정"
   ]
  },
  {
   "cell_type": "code",
   "execution_count": 3,
   "id": "d2ef41a2",
   "metadata": {},
   "outputs": [],
   "source": [
    "import cv2\n",
    "img = cv2.imread('img.jpg.jpg')\n",
    "dst = cv2.resize(img, None , fx= 0.5,fy =0.5)#x, y 비율 width, heigth 0.5배로 바꿈\n",
    "\n",
    "cv2.imshow('img',img)\n",
    "cv2.imshow('resize', dst)\n",
    "cv2.waitKey(0)\n",
    "cv2.destroyAllWindows()"
   ]
  },
  {
   "cell_type": "markdown",
   "id": "e1b92f2b",
   "metadata": {},
   "source": [
    "### 보간법\n",
    "1. cv2.INTER_AREA: 크기 줄일떄 사용\n",
    "2. cv2.INTER_CUBIC: 크기 늘릴때 사용(속도느림, 퀄리티 좋음)\n",
    "3. cv2.INTER_LINEAR: 크기 늘릴때 사용(기본값)"
   ]
  },
  {
   "cell_type": "code",
   "execution_count": 4,
   "id": "aa1dfadc",
   "metadata": {},
   "outputs": [],
   "source": [
    "import cv2\n",
    "img = cv2.imread('img.jpg.jpg')\n",
    "dst = cv2.resize(img, None , fx= 0.5,fy =0.5, interpolation= cv2.INTER_AREA)#x, y 비율 width, heigth 0.5배로 바꿈\n",
    "\n",
    "cv2.imshow('img',img)\n",
    "cv2.imshow('resize', dst)\n",
    "cv2.waitKey(0)\n",
    "cv2.destroyAllWindows()"
   ]
  },
  {
   "cell_type": "markdown",
   "id": "5030fb8a",
   "metadata": {},
   "source": [
    "보간법 적용하여 확대"
   ]
  },
  {
   "cell_type": "code",
   "execution_count": 6,
   "id": "c5a2ffb9",
   "metadata": {},
   "outputs": [],
   "source": [
    "import cv2\n",
    "img = cv2.imread('img.jpg.jpg')\n",
    "dst = cv2.resize(img, None , fx= 1.5,fy =1.5, interpolation= cv2.INTER_CUBIC)#x, y 비율 width, heigth 1.5배로 바꿈\n",
    "\n",
    "cv2.imshow('img',img)\n",
    "cv2.imshow('resize', dst)\n",
    "cv2.waitKey(0)\n",
    "cv2.destroyAllWindows()"
   ]
  },
  {
   "cell_type": "markdown",
   "id": "0cb35df7",
   "metadata": {},
   "source": [
    "# 동영상"
   ]
  },
  {
   "cell_type": "raw",
   "id": "080f7870",
   "metadata": {},
   "source": [
    "고정크기로 설정"
   ]
  },
  {
   "cell_type": "code",
   "execution_count": 10,
   "id": "7aa48f35",
   "metadata": {},
   "outputs": [
    {
     "name": "stdout",
     "output_type": "stream",
     "text": [
      "사용자 입력에 의해 종료\n"
     ]
    }
   ],
   "source": [
    "import cv2\n",
    "cap = cv2.VideoCapture('video.mp4.mp4')\n",
    "\n",
    "while cap.isOpened():\n",
    "    ret, frame = cap.read()\n",
    "    if not ret:\n",
    "        print(\"End\")\n",
    "        break\n",
    "    frame_resize = cv2.resize(frame, (150,500))    \n",
    "    cv2.imshow('video' , frame_resize)\n",
    "    if cv2.waitKey(10) == ord('q'):\n",
    "        print('사용자 입력에 의해 종료')\n",
    "        break\n",
    "cap.release()\n",
    "cv2.destroyAllWindows()"
   ]
  },
  {
   "cell_type": "markdown",
   "id": "f1fbd347",
   "metadata": {},
   "source": [
    "비율조정"
   ]
  },
  {
   "cell_type": "code",
   "execution_count": 11,
   "id": "923b5c86",
   "metadata": {},
   "outputs": [
    {
     "name": "stdout",
     "output_type": "stream",
     "text": [
      "사용자 입력에 의해 종료\n"
     ]
    }
   ],
   "source": [
    "import cv2\n",
    "cap = cv2.VideoCapture('video.mp4.mp4')\n",
    "\n",
    "while cap.isOpened():\n",
    "    ret, frame = cap.read()\n",
    "    if not ret:\n",
    "        print(\"End\")\n",
    "        break\n",
    "    frame_resize = cv2.resize(frame,  None , fx= 1.5,fy =1.5, interpolation= cv2.INTER_CUBIC)    \n",
    "    cv2.imshow('video' , frame_resize)\n",
    "    if cv2.waitKey(10) == ord('q'):\n",
    "        print('사용자 입력에 의해 종료')\n",
    "        break\n",
    "cap.release()\n",
    "cv2.destroyAllWindows()"
   ]
  }
 ],
 "metadata": {
  "kernelspec": {
   "display_name": "Python 3 (ipykernel)",
   "language": "python",
   "name": "python3"
  },
  "language_info": {
   "codemirror_mode": {
    "name": "ipython",
    "version": 3
   },
   "file_extension": ".py",
   "mimetype": "text/x-python",
   "name": "python",
   "nbconvert_exporter": "python",
   "pygments_lexer": "ipython3",
   "version": "3.9.7"
  }
 },
 "nbformat": 4,
 "nbformat_minor": 5
}
