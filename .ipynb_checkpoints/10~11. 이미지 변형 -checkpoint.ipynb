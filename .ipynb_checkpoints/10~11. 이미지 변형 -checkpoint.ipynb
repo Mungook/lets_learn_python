{
 "cells": [
  {
   "cell_type": "markdown",
   "id": "77e0993b",
   "metadata": {},
   "source": [
    "# 이미지 변형 흑백"
   ]
  },
  {
   "cell_type": "markdown",
   "id": "d63cc5d2",
   "metadata": {},
   "source": [
    "불러온 이미지를 흑백으로 변경"
   ]
  },
  {
   "cell_type": "code",
   "execution_count": 1,
   "id": "098f4d21",
   "metadata": {},
   "outputs": [],
   "source": [
    "import cv2\n",
    "img = cv2.imread('img.jpg.jpg', cv2.IMREAD_GRAYSCALE)\n",
    "cv2.imshow('img_GRAY',img)\n",
    "cv2.waitKey(0)\n",
    "cv2.destroyAllWindows()"
   ]
  },
  {
   "cell_type": "code",
   "execution_count": 3,
   "id": "e2652373",
   "metadata": {},
   "outputs": [],
   "source": [
    "import cv2\n",
    "img = cv2.imread('img.jpg.jpg')\n",
    "\n",
    "dst=cv2.cvtColor(img,cv2.COLOR_BGR2GRAY)\n",
    "\n",
    "cv2.imshow('gray',dst)\n",
    "cv2.waitKey(0)\n",
    "cv2.destroyAllWindows()"
   ]
  },
  {
   "cell_type": "markdown",
   "id": "a22e482e",
   "metadata": {},
   "source": [
    "# 이미지 변형 흐림"
   ]
  },
  {
   "cell_type": "markdown",
   "id": "901f9f02",
   "metadata": {},
   "source": [
    " 가우시안 블러"
   ]
  },
  {
   "cell_type": "markdown",
   "id": "c8ee9f0c",
   "metadata": {},
   "source": [
    "커널 사이즈 변환으로 인한 흐림"
   ]
  },
  {
   "cell_type": "code",
   "execution_count": 7,
   "id": "cf267ca7",
   "metadata": {},
   "outputs": [],
   "source": [
    "import cv2\n",
    "img = cv2.imread('img.jpg.jpg')\n",
    "#(3,3) (5,5),(7,7)\n",
    "kenal_3 =cv2.GaussianBlur(img,(3,3),0)\n",
    "kenal_5 =cv2.GaussianBlur(img,(5,5),0)\n",
    "kenal_7 =cv2.GaussianBlur(img,(7,7),0)\n",
    "cv2.imshow('img',img)\n",
    "cv2.imshow('kenal_7', kenal_7 )\n",
    "cv2.waitKey(0)\n",
    "cv2.destroyAllWindows()"
   ]
  },
  {
   "cell_type": "markdown",
   "id": "a4c3a741",
   "metadata": {},
   "source": [
    "표준편차를 이용한 흐림"
   ]
  },
  {
   "cell_type": "code",
   "execution_count": 9,
   "id": "c14996d4",
   "metadata": {},
   "outputs": [],
   "source": [
    "import cv2\n",
    "img = cv2.imread('img.jpg.jpg')\n",
    "#(3,3) (5,5),(7,7)\n",
    "kenal_3 =cv2.GaussianBlur(img,(0,0),1)\n",
    "kenal_5 =cv2.GaussianBlur(img,(0,0),2)\n",
    "kenal_7 =cv2.GaussianBlur(img,(0,0),3)\n",
    "cv2.imshow('img',img)\n",
    "cv2.imshow('kenal_3', kenal_3 )\n",
    "cv2.waitKey(0)\n",
    "cv2.destroyAllWindows()"
   ]
  }
 ],
 "metadata": {
  "kernelspec": {
   "display_name": "Python 3 (ipykernel)",
   "language": "python",
   "name": "python3"
  },
  "language_info": {
   "codemirror_mode": {
    "name": "ipython",
    "version": 3
   },
   "file_extension": ".py",
   "mimetype": "text/x-python",
   "name": "python",
   "nbconvert_exporter": "python",
   "pygments_lexer": "ipython3",
   "version": "3.9.7"
  }
 },
 "nbformat": 4,
 "nbformat_minor": 5
}
