{
 "cells": [
  {
   "cell_type": "markdown",
   "id": "ea2fa2b3",
   "metadata": {},
   "source": [
    "# 5. 파일저장\n",
    " 이미지 저장"
   ]
  },
  {
   "cell_type": "code",
   "execution_count": 4,
   "id": "30dafc08",
   "metadata": {},
   "outputs": [
    {
     "name": "stdout",
     "output_type": "stream",
     "text": [
      "True\n"
     ]
    }
   ],
   "source": [
    "import cv2\n",
    "img = cv2.imread('img.jpg.jpg',cv2.IMREAD_GRAYSCALE)\n",
    "cv2.imshow('img', img)\n",
    "cv2.waitKey(0)\n",
    "cv2.destroyAllWindows()\n",
    "\n",
    "result=cv2.imwrite('img_save.jpg',img)\n",
    "print(result)"
   ]
  },
  {
   "cell_type": "markdown",
   "id": "faa5db15",
   "metadata": {},
   "source": [
    "저장포맷"
   ]
  },
  {
   "cell_type": "code",
   "execution_count": 5,
   "id": "de28b54e",
   "metadata": {},
   "outputs": [
    {
     "data": {
      "text/plain": [
       "True"
      ]
     },
     "execution_count": 5,
     "metadata": {},
     "output_type": "execute_result"
    }
   ],
   "source": [
    "import cv2\n",
    "img = cv2.imread('img.jpg.jpg',cv2.IMREAD_GRAYSCALE)\n",
    "\n",
    "cv2.imwrite('img_save.png',img)#png형태로 저장\n"
   ]
  },
  {
   "cell_type": "markdown",
   "id": "e40ba001",
   "metadata": {},
   "source": [
    "동영상 저장"
   ]
  },
  {
   "cell_type": "code",
   "execution_count": 9,
   "id": "fb789aa0",
   "metadata": {},
   "outputs": [
    {
     "name": "stdout",
     "output_type": "stream",
     "text": [
      "사용자 입력에 의해 종료\n"
     ]
    }
   ],
   "source": [
    "import cv2\n",
    "cap = cv2.VideoCapture('video.mp4.mp4')\n",
    "\n",
    "#코덱정의\n",
    "fourcc =cv2.VideoWriter_fourcc(*'DIVX')\n",
    "\n",
    "width = round(cap.get(cv2.CAP_PROP_FRAME_WIDTH))\n",
    "height = round(cap.get(cv2.CAP_PROP_FRAME_HEIGHT))\n",
    "fps = cap.get(cv2.CAP_PROP_FPS)\n",
    "\n",
    "out = cv2.VideoWriter('output.avi',fourcc,fps,(width,height))\n",
    "# 저장 파일명, 코덱 ,FPS(속도), 크기, width height\n",
    "\n",
    "while cap.isOpened():\n",
    "    ret, frame = cap.read()\n",
    "    if not ret:\n",
    "        print(\"End\")\n",
    "        break\n",
    "   \n",
    "    out.write(frame) #영상 저장\n",
    "    \n",
    "    cv2.imshow('video' , frame)\n",
    "    if cv2.waitKey(10) == ord('q'):\n",
    "        print('사용자 입력에 의해 종료')\n",
    "        break\n",
    "out.release()    \n",
    "cap.release()\n",
    "cv2.destroyAllWindows()"
   ]
  },
  {
   "cell_type": "code",
   "execution_count": null,
   "id": "45c18538",
   "metadata": {},
   "outputs": [],
   "source": []
  }
 ],
 "metadata": {
  "kernelspec": {
   "display_name": "Python 3 (ipykernel)",
   "language": "python",
   "name": "python3"
  },
  "language_info": {
   "codemirror_mode": {
    "name": "ipython",
    "version": 3
   },
   "file_extension": ".py",
   "mimetype": "text/x-python",
   "name": "python",
   "nbconvert_exporter": "python",
   "pygments_lexer": "ipython3",
   "version": "3.9.7"
  }
 },
 "nbformat": 4,
 "nbformat_minor": 5
}
