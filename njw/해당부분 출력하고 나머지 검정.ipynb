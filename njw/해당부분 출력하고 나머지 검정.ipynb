{
 "cells": [
  {
   "cell_type": "code",
   "execution_count": 6,
   "id": "6a3ae7f5",
   "metadata": {},
   "outputs": [],
   "source": [
    "import cv2\n",
    "import numpy as np\n",
    "\n",
    "cap = cv2.VideoCapture(0) #0번째 카메라 장치\n",
    "\n",
    "if not cap.isOpened():\n",
    "    exit() #프로그램 종료\n",
    "    \n",
    "while True:\n",
    "    ret , frame = cap.read()\n",
    "    if not ret:\n",
    "        break\n",
    "        \n",
    "        \n",
    "    hsv = cv2.cvtColor(frame, cv2.COLOR_BGR2HSV)\n",
    "    \n",
    "    lower_blue = np.array([100,100,120])\n",
    "    upper_blue = np.array([150,255,255])\n",
    "    \n",
    "    lower_green = np.array([50,150,50])\n",
    "    upper_green = np.array([80,255,255])\n",
    "    \n",
    "    lower_red = np.array([150, 50,50])\n",
    "    upper_red = np.array([180,255,255])\n",
    "    \n",
    "    mask = cv2.inRange(hsv,lower_blue, upper_blue)\n",
    "    mask1= cv2.inRange(hsv,lower_green,upper_green)\n",
    "    mask2= cv2.inRange(hsv,lower_red,upper_red) #해당부분 아닌 부분을 날림\n",
    "    \n",
    "    res = cv2.bitwise_and(frame,frame,mask = mask)\n",
    "    res1 = cv2.bitwise_and(frame, frame, mask = mask1)\n",
    "    res2= cv2.bitwise_and(frame, frame, mask = mask2)\n",
    "\n",
    "    cv2.imshow('frame',frame)\n",
    "    cv2.imshow('blue',res)\n",
    "    cv2.imshow('green',res1)\n",
    "    cv2.imshow('red',res2) \n",
    "    \n",
    "    \n",
    "    if cv2.waitKey(1) == ord('q'): #사용자가 q를 입력하면\n",
    "        break\n",
    "        \n",
    "cap.release()\n",
    "cv2.destroyAllWindows()"
   ]
  }
 ],
 "metadata": {
  "kernelspec": {
   "display_name": "Python 3 (ipykernel)",
   "language": "python",
   "name": "python3"
  },
  "language_info": {
   "codemirror_mode": {
    "name": "ipython",
    "version": 3
   },
   "file_extension": ".py",
   "mimetype": "text/x-python",
   "name": "python",
   "nbconvert_exporter": "python",
   "pygments_lexer": "ipython3",
   "version": "3.9.7"
  }
 },
 "nbformat": 4,
 "nbformat_minor": 5
}
