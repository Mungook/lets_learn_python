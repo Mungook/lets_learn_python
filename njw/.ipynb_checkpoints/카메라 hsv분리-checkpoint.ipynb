{
 "cells": [
  {
   "cell_type": "code",
   "execution_count": 1,
   "id": "ccfde815",
   "metadata": {},
   "outputs": [],
   "source": [
    "import cv2\n",
    "cap = cv2.VideoCapture(0) #0번째 카메라 장치\n",
    "\n",
    "if not cap.isOpened():\n",
    "    exit() #프로그램 종료\n",
    "    \n",
    "while True:\n",
    "    ret , frame = cap.read()\n",
    "    if not ret:\n",
    "        break\n",
    "        \n",
    "    cv2.imshow('camera',frame)\n",
    "    \n",
    "    hsv = cv2.cvtColor(frame, cv2.COLOR_BGR2HSV)\n",
    "    h,s,v = cv2.split(hsv)\n",
    "    \n",
    "        \n",
    "    cv2.imshow(\"h\",h)\n",
    "    cv2.imshow(\"s\",s)\n",
    "    cv2.imshow(\"v\",v)\n",
    "    \n",
    "    if cv2.waitKey(1) == ord('q'): #사용자가 q를 입력하면\n",
    "        break\n",
    "        \n",
    "cap.release()\n",
    "cv2.destroyAllWindows()"
   ]
  }
 ],
 "metadata": {
  "kernelspec": {
   "display_name": "Python 3 (ipykernel)",
   "language": "python",
   "name": "python3"
  },
  "language_info": {
   "codemirror_mode": {
    "name": "ipython",
    "version": 3
   },
   "file_extension": ".py",
   "mimetype": "text/x-python",
   "name": "python",
   "nbconvert_exporter": "python",
   "pygments_lexer": "ipython3",
   "version": "3.9.7"
  }
 },
 "nbformat": 4,
 "nbformat_minor": 5
}
