{
 "cells": [
  {
   "cell_type": "markdown",
   "id": "1f7ab602",
   "metadata": {},
   "source": [
    "# 환경설정\n",
    "Anaconda Prompt 에서 다음명령 수행\n",
    "> pip install opencv-python\n"
   ]
  },
  {
   "cell_type": "code",
   "execution_count": 1,
   "id": "175638ee",
   "metadata": {},
   "outputs": [
    {
     "data": {
      "text/plain": [
       "'4.5.5'"
      ]
     },
     "execution_count": 1,
     "metadata": {},
     "output_type": "execute_result"
    }
   ],
   "source": [
    "import cv2\n",
    "cv2.__version__"
   ]
  },
  {
   "cell_type": "markdown",
   "id": "5e6234b8",
   "metadata": {},
   "source": [
    "# OPENCV \n",
    "다양한 영상처리\n"
   ]
  },
  {
   "cell_type": "markdown",
   "id": "e1fa46ff",
   "metadata": {},
   "source": [
    "# 1. 이미지출력\n"
   ]
  },
  {
   "cell_type": "code",
   "execution_count": null,
   "id": "7521b44c",
   "metadata": {
    "scrolled": true
   },
   "outputs": [
    {
     "ename": "",
     "evalue": "",
     "output_type": "error",
     "traceback": [
      "\u001b[1;31mRunning cells with 'Python 3.9.7 ('education')' requires ipykernel package.\n",
      "Run the following command to install 'ipykernel' into the Python environment. \n",
      "Command: 'conda install -n education ipykernel --update-deps --force-reinstall'"
     ]
    }
   ],
   "source": [
    "import cv2\n",
    "img = cv2.imread('img.jpg.jpg')#경로파일 읽어오기\n",
    "cv2.imshow('img' , img)# img라는 창에 이미지 표시\n",
    "key = cv2.waitKey(0)#지정된 시간동안 사용자 키 입력대기\n",
    "print(key)\n",
    "cv2.destroyAllWindows()#모든 창 닫기"
   ]
  },
  {
   "cell_type": "markdown",
   "id": "6aba8bbe",
   "metadata": {},
   "source": [
    "## 읽기 옵션\n",
    "1.cv2. IMREAD_COLOR : 컬러 이미지 투명 영역은 무시(기본값)\n",
    "\n",
    "2.cv2. IMREAD_GRAYSCALE : 흑백이미지\n",
    "\n",
    "3.cv2. IMREAD_UNCHANGED : 투명영역까지 포함"
   ]
  },
  {
   "cell_type": "code",
   "execution_count": 1,
   "id": "81f52565",
   "metadata": {},
   "outputs": [],
   "source": [
    "import cv2\n",
    "img_color =cv2.imread('img.jpg.jpg', cv2.IMREAD_COLOR)\n",
    "img_gray =cv2.imread('img.jpg.jpg', cv2.IMREAD_GRAYSCALE)\n",
    "img_unchanged =cv2.imread('img.jpg.jpg', cv2.IMREAD_UNCHANGED)\n",
    "\n",
    "cv2.imshow('img_color', img_color)\n",
    "cv2.imshow('img_gray', img_gray)\n",
    "cv2.imshow('img_unchanged', img_unchanged)\n",
    "\n",
    "cv2.waitKey(0)\n",
    "cv2.destroyAllWindows()\n"
   ]
  },
  {
   "cell_type": "markdown",
   "id": "335b9714",
   "metadata": {},
   "source": [
    "# Shape\n",
    "이미지의 height,width,channel 정보\n"
   ]
  },
  {
   "cell_type": "code",
   "execution_count": 2,
   "id": "6f38efd0",
   "metadata": {},
   "outputs": [
    {
     "data": {
      "text/plain": [
       "(390, 640, 3)"
      ]
     },
     "execution_count": 2,
     "metadata": {},
     "output_type": "execute_result"
    }
   ],
   "source": [
    "import cv2\n",
    "img = cv2.imread('img.jpg.jpg')\n",
    "img.shape # 세로가로channel"
   ]
  },
  {
   "cell_type": "code",
   "execution_count": null,
   "id": "88c5af75",
   "metadata": {},
   "outputs": [],
   "source": []
  },
  {
   "cell_type": "code",
   "execution_count": null,
   "id": "d4f6c377",
   "metadata": {},
   "outputs": [],
   "source": []
  },
  {
   "cell_type": "code",
   "execution_count": null,
   "id": "21024c9c",
   "metadata": {},
   "outputs": [],
   "source": []
  }
 ],
 "metadata": {
  "kernelspec": {
   "display_name": "Python 3 (ipykernel)",
   "language": "python",
   "name": "python3"
  },
  "language_info": {
   "codemirror_mode": {
    "name": "ipython",
    "version": 3
   },
   "file_extension": ".py",
   "mimetype": "text/x-python",
   "name": "python",
   "nbconvert_exporter": "python",
   "pygments_lexer": "ipython3",
   "version": "3.9.7"
  }
 },
 "nbformat": 4,
 "nbformat_minor": 5
}
